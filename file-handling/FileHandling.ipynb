{
 "cells": [
  {
   "cell_type": "markdown",
   "metadata": {
    "slideshow": {
     "slide_type": "slide"
    }
   },
   "source": [
    "# File Handling in Python"
   ]
  },
  {
   "cell_type": "code",
   "execution_count": 10,
   "metadata": {
    "slideshow": {
     "slide_type": "-"
    }
   },
   "outputs": [],
   "source": [
    "f = open('new_file.txt', 'w')\n",
    "f.write('Hello')\n",
    "f.write('World!')\n",
    "f.close()"
   ]
  },
  {
   "cell_type": "code",
   "execution_count": 11,
   "metadata": {
    "slideshow": {
     "slide_type": "-"
    }
   },
   "outputs": [
    {
     "data": {
      "text/plain": [
       "'HelloWorld!'"
      ]
     },
     "execution_count": 11,
     "metadata": {},
     "output_type": "execute_result"
    }
   ],
   "source": [
    "f = open('new_file.txt')\n",
    "f.read()\n"
   ]
  },
  {
   "cell_type": "code",
   "execution_count": 12,
   "metadata": {
    "slideshow": {
     "slide_type": "-"
    }
   },
   "outputs": [],
   "source": [
    "f.close()"
   ]
  },
  {
   "cell_type": "markdown",
   "metadata": {
    "slideshow": {
     "slide_type": "slide"
    }
   },
   "source": [
    "Adding new lines with '\\n'"
   ]
  },
  {
   "cell_type": "markdown",
   "metadata": {
    "slideshow": {
     "slide_type": "-"
    }
   },
   "source": [
    "'r'\topen for reading (default)    \n",
    "'w'\topen for writing, truncating the file first    \n",
    "'x'\topen for exclusive creation, failing if the file already exists    \n",
    "'a'\topen for writing, appending to the end of the file if it exists    \n",
    "'b'\tbinary mode    \n",
    "'t'\ttext mode (default)   \n",
    "'+'\topen a disk file for updating (reading and writing)    "
   ]
  },
  {
   "cell_type": "code",
   "execution_count": 13,
   "metadata": {
    "slideshow": {
     "slide_type": "slide"
    }
   },
   "outputs": [],
   "source": [
    "# Write new lines\n",
    "f = open('new_file.txt', 'w')\n",
    "f.write('Hello\\n')\n",
    "f.write('World!')\n",
    "f.close()"
   ]
  },
  {
   "cell_type": "code",
   "execution_count": 14,
   "metadata": {},
   "outputs": [
    {
     "data": {
      "text/plain": [
       "'Hello\\nWorld!'"
      ]
     },
     "execution_count": 14,
     "metadata": {},
     "output_type": "execute_result"
    }
   ],
   "source": [
    "f = open('new_file.txt')\n",
    "f.read()"
   ]
  },
  {
   "cell_type": "code",
   "execution_count": 15,
   "metadata": {},
   "outputs": [],
   "source": [
    "f.close()"
   ]
  },
  {
   "cell_type": "markdown",
   "metadata": {
    "slideshow": {
     "slide_type": "slide"
    }
   },
   "source": [
    "## A better way to open/close files. "
   ]
  },
  {
   "cell_type": "code",
   "execution_count": 16,
   "metadata": {
    "slideshow": {
     "slide_type": "slide"
    }
   },
   "outputs": [],
   "source": [
    "with open('new_file.txt', 'w') as f:\n",
    "    f.write('Hello\\n')\n",
    "    f.write('World!')"
   ]
  },
  {
   "cell_type": "code",
   "execution_count": 17,
   "metadata": {},
   "outputs": [
    {
     "name": "stdout",
     "output_type": "stream",
     "text": [
      "Hello\n",
      "World!\n"
     ]
    }
   ],
   "source": [
    "with open('new_file.txt') as f:\n",
    "    print(f.read())"
   ]
  },
  {
   "cell_type": "markdown",
   "metadata": {
    "slideshow": {
     "slide_type": "slide"
    }
   },
   "source": [
    "### Looping over a list and write to file"
   ]
  },
  {
   "cell_type": "code",
   "execution_count": 18,
   "metadata": {
    "slideshow": {
     "slide_type": "slide"
    }
   },
   "outputs": [
    {
     "name": "stdout",
     "output_type": "stream",
     "text": [
      "HelloWord!Goodbye\n"
     ]
    }
   ],
   "source": [
    "# Writing a list to a file\n",
    "words = ['Hello', 'Word!', 'Goodbye']\n",
    "with open('list_file.txt', 'w') as f:\n",
    "    for word in words:\n",
    "        f.write(word)\n",
    "        \n",
    "with open('list_file.txt') as f:\n",
    "    print(f.read())"
   ]
  },
  {
   "cell_type": "code",
   "execution_count": 19,
   "metadata": {
    "slideshow": {
     "slide_type": "slide"
    }
   },
   "outputs": [
    {
     "name": "stdout",
     "output_type": "stream",
     "text": [
      "Hello,Word!,Goodbye\n"
     ]
    }
   ],
   "source": [
    "# Writing a list to a file as csv\n",
    "words = ['Hello', 'Word!', 'Goodbye']\n",
    "with open('list_file.txt', 'w') as f:\n",
    "    f.write(\",\".join(words))\n",
    "\n",
    "with open('list_file.txt') as f:\n",
    "    print(f.read())"
   ]
  },
  {
   "cell_type": "code",
   "execution_count": 20,
   "metadata": {
    "slideshow": {
     "slide_type": "slide"
    }
   },
   "outputs": [
    {
     "name": "stdout",
     "output_type": "stream",
     "text": [
      "Hello\n",
      "Word!\n",
      "Goodbye\n",
      "\n"
     ]
    }
   ],
   "source": [
    "# Writing a list to a file with new line\n",
    "words = ['Hello', 'Word!', 'Goodbye']\n",
    "with open('list_file.txt', 'w') as f:\n",
    "    for word in words:\n",
    "        # Add a new line character\n",
    "        f.write(\"{}\\n\".format(word))\n",
    "        \n",
    "with open('list_file.txt') as f:\n",
    "    print(f.read())"
   ]
  },
  {
   "cell_type": "code",
   "execution_count": 21,
   "metadata": {
    "slideshow": {
     "slide_type": "slide"
    }
   },
   "outputs": [
    {
     "name": "stdout",
     "output_type": "stream",
     "text": [
      "Hello\n",
      "Word!\n",
      "Goodbye\n"
     ]
    }
   ],
   "source": [
    "# Reading a file line by line\n",
    "with open('list_file.txt') as f:\n",
    "    for line in f:\n",
    "        print(line, end='')"
   ]
  },
  {
   "cell_type": "code",
   "execution_count": 22,
   "metadata": {
    "slideshow": {
     "slide_type": "slide"
    }
   },
   "outputs": [
    {
     "name": "stdout",
     "output_type": "stream",
     "text": [
      "Hello\n"
     ]
    }
   ],
   "source": [
    "# Only print out lines that start with H\n",
    "with open('list_file.txt') as f:\n",
    "    for line in f:\n",
    "        if line.startswith('H'):\n",
    "            print(line, end='')"
   ]
  },
  {
   "cell_type": "code",
   "execution_count": 23,
   "metadata": {
    "slideshow": {
     "slide_type": "slide"
    }
   },
   "outputs": [
    {
     "ename": "TypeError",
     "evalue": "sequence item 2: expected str instance, int found",
     "output_type": "error",
     "traceback": [
      "\u001b[0;31m---------------------------------------------------------------------------\u001b[0m",
      "\u001b[0;31mTypeError\u001b[0m                                 Traceback (most recent call last)",
      "\u001b[0;32m<ipython-input-23-9d43774597ff>\u001b[0m in \u001b[0;36m<module>\u001b[0;34m\u001b[0m\n\u001b[1;32m     10\u001b[0m \u001b[0;32mwith\u001b[0m \u001b[0mopen\u001b[0m\u001b[0;34m(\u001b[0m\u001b[0;34m'presidents'\u001b[0m\u001b[0;34m,\u001b[0m \u001b[0;34m'w'\u001b[0m\u001b[0;34m)\u001b[0m \u001b[0;32mas\u001b[0m \u001b[0mf\u001b[0m\u001b[0;34m:\u001b[0m\u001b[0;34m\u001b[0m\u001b[0;34m\u001b[0m\u001b[0m\n\u001b[1;32m     11\u001b[0m     \u001b[0;32mfor\u001b[0m \u001b[0mpresident\u001b[0m \u001b[0;32min\u001b[0m \u001b[0mpresidents\u001b[0m\u001b[0;34m:\u001b[0m\u001b[0;34m\u001b[0m\u001b[0;34m\u001b[0m\u001b[0m\n\u001b[0;32m---> 12\u001b[0;31m         \u001b[0mf\u001b[0m\u001b[0;34m.\u001b[0m\u001b[0mwrite\u001b[0m\u001b[0;34m(\u001b[0m\u001b[0;34m','\u001b[0m\u001b[0;34m.\u001b[0m\u001b[0mjoin\u001b[0m\u001b[0;34m(\u001b[0m\u001b[0mpresident\u001b[0m\u001b[0;34m)\u001b[0m\u001b[0;34m)\u001b[0m\u001b[0;34m\u001b[0m\u001b[0;34m\u001b[0m\u001b[0m\n\u001b[0m\u001b[1;32m     13\u001b[0m \u001b[0;34m\u001b[0m\u001b[0m\n",
      "\u001b[0;31mTypeError\u001b[0m: sequence item 2: expected str instance, int found"
     ]
    }
   ],
   "source": [
    "# writing a list of lists (2d array) to a file\n",
    "presidents = [\n",
    "    ['first', 'last', 'number'],\n",
    "    ['Donald', 'Trump', 45],\n",
    "    ['Barack', 'Obama', 44],\n",
    "    ['George', 'Bush', 43],\n",
    "    ['Bill', 'Clinton', 42]\n",
    "]\n",
    "\n",
    "with open('presidents', 'w') as f:\n",
    "    for president in presidents:\n",
    "        f.write(','.join(president))\n",
    "    "
   ]
  },
  {
   "cell_type": "code",
   "execution_count": 24,
   "metadata": {
    "slideshow": {
     "slide_type": "slide"
    }
   },
   "outputs": [
    {
     "name": "stdout",
     "output_type": "stream",
     "text": [
      "first,last,number\n",
      "Donald,Trump,45\n",
      "Barack,Obama,44\n",
      "George,Bush,43\n",
      "Bill,Clinton,42\n",
      "\n"
     ]
    }
   ],
   "source": [
    "# writing a list of lists (2d array) to a file\n",
    "presidents = [\n",
    "    ['first', 'last', 'number'],\n",
    "    ['Donald', 'Trump', 45],\n",
    "    ['Barack', 'Obama', 44],\n",
    "    ['George', 'Bush', 43],\n",
    "    ['Bill', 'Clinton', 42]\n",
    "]\n",
    "\n",
    "with open('presidents.txt', 'w') as f:\n",
    "    for president in presidents:\n",
    "        # Convert third element to a str\n",
    "        president[2] = str(president[2])\n",
    "        f.write(','.join(president) + '\\n')\n",
    "    \n",
    "with open('presidents.txt') as f:\n",
    "    print(f.read())"
   ]
  },
  {
   "cell_type": "code",
   "execution_count": 25,
   "metadata": {
    "slideshow": {
     "slide_type": "slide"
    }
   },
   "outputs": [
    {
     "name": "stdout",
     "output_type": "stream",
     "text": [
      "['first,last,number\\n', 'Donald,Trump,45\\n', 'Barack,Obama,44\\n', 'George,Bush,43\\n', 'Bill,Clinton,42\\n']\n",
      "['first,last,number\\n', 'Donald,Trump,45\\n', 'Barack,Obama,44\\n', 'George,Bush,43\\n', 'Bill,Clinton,42\\n']\n"
     ]
    }
   ],
   "source": [
    "# Read file into a list\n",
    "with open('presidents.txt') as f:\n",
    "    presidents = list(f)\n",
    "    \n",
    "print(presidents)\n",
    "\n",
    "# Read file into a list\n",
    "with open('presidents.txt') as f:\n",
    "    presidents = f.readlines()\n",
    "    \n",
    "print(presidents)"
   ]
  },
  {
   "cell_type": "code",
   "execution_count": 26,
   "metadata": {
    "slideshow": {
     "slide_type": "slide"
    }
   },
   "outputs": [
    {
     "name": "stdout",
     "output_type": "stream",
     "text": [
      "['first,last,number\\n', 'Donald,Trump,45\\n', 'Barack,Obama,44\\n', 'George,Bush,43\\n', 'Bill,Clinton,42\\n']\n",
      "[]\n",
      "['first,last,number\\n', 'Donald,Trump,45\\n', 'Barack,Obama,44\\n', 'George,Bush,43\\n', 'Bill,Clinton,42\\n']\n",
      "['first,last,number\\n', 'Donald,Trump,45\\n', 'Barack,Obama,44\\n', 'George,Bush,43\\n', 'Bill,Clinton,42\\n']\n"
     ]
    }
   ],
   "source": [
    "# Going back to the beginning of a file using previous example\n",
    "# Read file into a list\n",
    "with open('presidents.txt') as f:\n",
    "    print(list(f))\n",
    "    print(f.readlines()) # we already read the entire contens\n",
    "    \n",
    "with open('presidents.txt') as f:\n",
    "    print(list(f))\n",
    "    f.seek(0) # go back to the 0 byte offset\n",
    "    print(f.readlines())"
   ]
  },
  {
   "cell_type": "markdown",
   "metadata": {
    "slideshow": {
     "slide_type": "slide"
    }
   },
   "source": [
    "### CSV module"
   ]
  },
  {
   "cell_type": "code",
   "execution_count": 27,
   "metadata": {
    "slideshow": {
     "slide_type": "slide"
    }
   },
   "outputs": [],
   "source": [
    "import csv"
   ]
  },
  {
   "cell_type": "code",
   "execution_count": 28,
   "metadata": {},
   "outputs": [
    {
     "name": "stdout",
     "output_type": "stream",
     "text": [
      "['first', 'last', 'number']\n",
      "['Donald', 'Trump', '45']\n",
      "['Barack', 'Obama', '44']\n",
      "['George', 'Bush', '43']\n",
      "['Bill', 'Clinton', '42']\n"
     ]
    }
   ],
   "source": [
    "with open('presidents.txt') as f:\n",
    "    reader = csv.reader(f)\n",
    "    for row in reader:\n",
    "        print(row)"
   ]
  },
  {
   "cell_type": "code",
   "execution_count": 29,
   "metadata": {
    "slideshow": {
     "slide_type": "slide"
    }
   },
   "outputs": [
    {
     "name": "stdout",
     "output_type": "stream",
     "text": [
      "(1, ['first', 'last', 'number'])\n",
      "(2, ['Donald', 'Trump', '45'])\n",
      "(3, ['Barack', 'Obama', '44'])\n",
      "(4, ['George', 'Bush', '43'])\n",
      "(5, ['Bill', 'Clinton', '42'])\n"
     ]
    }
   ],
   "source": [
    "# Line number\n",
    "with open('presidents.txt') as f:\n",
    "    reader = csv.reader(f)\n",
    "    for row in reader:\n",
    "        print((reader.line_num, row))"
   ]
  },
  {
   "cell_type": "code",
   "execution_count": 30,
   "metadata": {
    "slideshow": {
     "slide_type": "slide"
    }
   },
   "outputs": [
    {
     "name": "stdout",
     "output_type": "stream",
     "text": [
      "first,last,number\n",
      "Donald,Trump,45\n",
      "Barack,Obama,44\n",
      "George,Bush,43\n",
      "Bill,Clinton,42\n",
      "\n"
     ]
    }
   ],
   "source": [
    "# Writing csv using csv module\n",
    "presidents = [\n",
    "    ['first', 'last', 'number'],\n",
    "    ['Donald', 'Trump', 45],\n",
    "    ['Barack', 'Obama', 44],\n",
    "    ['George', 'Bush', 43],\n",
    "    ['Bill', 'Clinton', 42]\n",
    "]\n",
    "\n",
    "with open('presidents.txt', 'w') as f:\n",
    "    writer = csv.writer(f)\n",
    "    for president in presidents:\n",
    "        writer.writerow(president)\n",
    "\n",
    "with open('presidents.txt') as f:\n",
    "    print(f.read())    "
   ]
  },
  {
   "cell_type": "code",
   "execution_count": 31,
   "metadata": {
    "slideshow": {
     "slide_type": "slide"
    }
   },
   "outputs": [
    {
     "name": "stdout",
     "output_type": "stream",
     "text": [
      "first,last,number\n",
      "Donald,Trump,45\n",
      "Barack,Obama,44\n",
      "George,Bush,43\n",
      "Bill,Clinton,42\n",
      "George,Bush,41\n",
      "Ronald,Reagan,40\n",
      "Jimmy,Carter,39\n",
      "\n"
     ]
    }
   ],
   "source": [
    "# Appending to a file and using writerows\n",
    "presidents = [\n",
    "    ['George', 'Bush', 41],\n",
    "    ['Ronald', 'Reagan', 40],\n",
    "    ['Jimmy', 'Carter', 39]\n",
    "]\n",
    "\n",
    "with open('presidents.txt', 'a') as f:\n",
    "    writer = csv.writer(f)\n",
    "    writer.writerows(presidents)\n",
    "\n",
    "with open('presidents.txt') as f:\n",
    "    print(f.read()) "
   ]
  },
  {
   "cell_type": "code",
   "execution_count": 32,
   "metadata": {
    "slideshow": {
     "slide_type": "slide"
    }
   },
   "outputs": [
    {
     "name": "stdout",
     "output_type": "stream",
     "text": [
      "first|last|number\n",
      "Donald|Trump|45\n",
      "Barack|Obama|44\n",
      "George|Bush|43\n",
      "Bill|Clinton|42\n",
      "\n"
     ]
    }
   ],
   "source": [
    "# Picking a different delimiter\n",
    "presidents = [\n",
    "    ['first', 'last', 'number'],\n",
    "    ['Donald', 'Trump', 45],\n",
    "    ['Barack', 'Obama', 44],\n",
    "    ['George', 'Bush', 43],\n",
    "    ['Bill', 'Clinton', 42]\n",
    "]\n",
    "\n",
    "with open('presidents.txt', 'w') as f:\n",
    "    writer = csv.writer(f, delimiter=\"|\")\n",
    "    for president in presidents:\n",
    "        writer.writerow(president)\n",
    "\n",
    "with open('presidents.txt') as f:\n",
    "    print(f.read())    "
   ]
  },
  {
   "cell_type": "markdown",
   "metadata": {
    "slideshow": {
     "slide_type": "slide"
    }
   },
   "source": [
    "### Dictionaries and csv"
   ]
  },
  {
   "cell_type": "code",
   "execution_count": 33,
   "metadata": {},
   "outputs": [
    {
     "name": "stdout",
     "output_type": "stream",
     "text": [
      "Donald Trump\n",
      "Barack Obama\n",
      "George Bush\n",
      "Bill Clinton\n"
     ]
    }
   ],
   "source": [
    "with open('presidents.txt') as f:\n",
    "    reader = csv.DictReader(f, delimiter='|')\n",
    "    for row in reader:\n",
    "        print(row['first'] + \" \" + row['last'])\n",
    "    \n",
    "        "
   ]
  },
  {
   "cell_type": "code",
   "execution_count": 41,
   "metadata": {
    "slideshow": {
     "slide_type": "slide"
    }
   },
   "outputs": [
    {
     "name": "stdout",
     "output_type": "stream",
     "text": [
      "Donald,Trump\n",
      "Barack,Obama\n",
      "George,Bush\n",
      "Bill,Clinton\n",
      "\n"
     ]
    }
   ],
   "source": [
    "# writing out a list of dictionaries, no header\n",
    "presidents = [\n",
    "    \n",
    "    {'first': 'Donald', 'last': 'Trump'},\n",
    "    {'first': 'Barack', 'last': 'Obama'},\n",
    "    {'first': 'George', 'last': 'Bush'},\n",
    "    {'first': 'Bill', 'last': 'Clinton'},\n",
    "\n",
    "]\n",
    "\n",
    "header = ['first', 'last']\n",
    "with open('presidents.txt', 'w') as f:\n",
    "    writer = csv.DictWriter(f, fieldnames=header)\n",
    "    for row in presidents:\n",
    "        writer.writerow(row)\n",
    "\n",
    "   \n",
    "with open('presidents.txt') as f:\n",
    "    print(f.read())    \n",
    "        "
   ]
  },
  {
   "cell_type": "code",
   "execution_count": 35,
   "metadata": {
    "slideshow": {
     "slide_type": "slide"
    }
   },
   "outputs": [
    {
     "name": "stdout",
     "output_type": "stream",
     "text": [
      "first,last\n",
      "Donald,Trump\n",
      "Barack,Obama\n",
      "George,Bush\n",
      "Bill,Clinton\n",
      "\n"
     ]
    }
   ],
   "source": [
    "# writing out a list of dictionaries\n",
    "# With header\n",
    "presidents = [\n",
    "    \n",
    "    {'first': 'Donald', 'last': 'Trump'},\n",
    "    {'first': 'Barack', 'last': 'Obama'},\n",
    "    {'first': 'George', 'last': 'Bush'},\n",
    "    {'first': 'Bill', 'last': 'Clinton'},\n",
    "\n",
    "]\n",
    "\n",
    "header = ['first', 'last']\n",
    "with open('presidents.txt', 'w') as f:\n",
    "    writer = csv.DictWriter(f, fieldnames=header)\n",
    "    writer.writeheader()\n",
    "    for row in presidents:\n",
    "        writer.writerow(row)\n",
    "\n",
    "   \n",
    "with open('presidents.txt') as f:\n",
    "    print(f.read())  "
   ]
  },
  {
   "cell_type": "code",
   "execution_count": 36,
   "metadata": {
    "slideshow": {
     "slide_type": "slide"
    }
   },
   "outputs": [
    {
     "ename": "ValueError",
     "evalue": "dict contains fields not in fieldnames: 'last'",
     "output_type": "error",
     "traceback": [
      "\u001b[0;31m---------------------------------------------------------------------------\u001b[0m",
      "\u001b[0;31mValueError\u001b[0m                                Traceback (most recent call last)",
      "\u001b[0;32m<ipython-input-36-435cd37188e9>\u001b[0m in \u001b[0;36m<module>\u001b[0;34m\u001b[0m\n\u001b[1;32m     15\u001b[0m     \u001b[0mwriter\u001b[0m\u001b[0;34m.\u001b[0m\u001b[0mwriteheader\u001b[0m\u001b[0;34m(\u001b[0m\u001b[0;34m)\u001b[0m\u001b[0;34m\u001b[0m\u001b[0;34m\u001b[0m\u001b[0m\n\u001b[1;32m     16\u001b[0m     \u001b[0;32mfor\u001b[0m \u001b[0mrow\u001b[0m \u001b[0;32min\u001b[0m \u001b[0mpresidents\u001b[0m\u001b[0;34m:\u001b[0m\u001b[0;34m\u001b[0m\u001b[0;34m\u001b[0m\u001b[0m\n\u001b[0;32m---> 17\u001b[0;31m         \u001b[0mwriter\u001b[0m\u001b[0;34m.\u001b[0m\u001b[0mwriterow\u001b[0m\u001b[0;34m(\u001b[0m\u001b[0mrow\u001b[0m\u001b[0;34m)\u001b[0m\u001b[0;34m\u001b[0m\u001b[0;34m\u001b[0m\u001b[0m\n\u001b[0m\u001b[1;32m     18\u001b[0m \u001b[0;34m\u001b[0m\u001b[0m\n\u001b[1;32m     19\u001b[0m \u001b[0;34m\u001b[0m\u001b[0m\n",
      "\u001b[0;32m/usr/local/Cellar/python/3.7.1/Frameworks/Python.framework/Versions/3.7/lib/python3.7/csv.py\u001b[0m in \u001b[0;36mwriterow\u001b[0;34m(self, rowdict)\u001b[0m\n\u001b[1;32m    153\u001b[0m \u001b[0;34m\u001b[0m\u001b[0m\n\u001b[1;32m    154\u001b[0m     \u001b[0;32mdef\u001b[0m \u001b[0mwriterow\u001b[0m\u001b[0;34m(\u001b[0m\u001b[0mself\u001b[0m\u001b[0;34m,\u001b[0m \u001b[0mrowdict\u001b[0m\u001b[0;34m)\u001b[0m\u001b[0;34m:\u001b[0m\u001b[0;34m\u001b[0m\u001b[0;34m\u001b[0m\u001b[0m\n\u001b[0;32m--> 155\u001b[0;31m         \u001b[0;32mreturn\u001b[0m \u001b[0mself\u001b[0m\u001b[0;34m.\u001b[0m\u001b[0mwriter\u001b[0m\u001b[0;34m.\u001b[0m\u001b[0mwriterow\u001b[0m\u001b[0;34m(\u001b[0m\u001b[0mself\u001b[0m\u001b[0;34m.\u001b[0m\u001b[0m_dict_to_list\u001b[0m\u001b[0;34m(\u001b[0m\u001b[0mrowdict\u001b[0m\u001b[0;34m)\u001b[0m\u001b[0;34m)\u001b[0m\u001b[0;34m\u001b[0m\u001b[0;34m\u001b[0m\u001b[0m\n\u001b[0m\u001b[1;32m    156\u001b[0m \u001b[0;34m\u001b[0m\u001b[0m\n\u001b[1;32m    157\u001b[0m     \u001b[0;32mdef\u001b[0m \u001b[0mwriterows\u001b[0m\u001b[0;34m(\u001b[0m\u001b[0mself\u001b[0m\u001b[0;34m,\u001b[0m \u001b[0mrowdicts\u001b[0m\u001b[0;34m)\u001b[0m\u001b[0;34m:\u001b[0m\u001b[0;34m\u001b[0m\u001b[0;34m\u001b[0m\u001b[0m\n",
      "\u001b[0;32m/usr/local/Cellar/python/3.7.1/Frameworks/Python.framework/Versions/3.7/lib/python3.7/csv.py\u001b[0m in \u001b[0;36m_dict_to_list\u001b[0;34m(self, rowdict)\u001b[0m\n\u001b[1;32m    149\u001b[0m             \u001b[0;32mif\u001b[0m \u001b[0mwrong_fields\u001b[0m\u001b[0;34m:\u001b[0m\u001b[0;34m\u001b[0m\u001b[0;34m\u001b[0m\u001b[0m\n\u001b[1;32m    150\u001b[0m                 raise ValueError(\"dict contains fields not in fieldnames: \"\n\u001b[0;32m--> 151\u001b[0;31m                                  + \", \".join([repr(x) for x in wrong_fields]))\n\u001b[0m\u001b[1;32m    152\u001b[0m         \u001b[0;32mreturn\u001b[0m \u001b[0;34m(\u001b[0m\u001b[0mrowdict\u001b[0m\u001b[0;34m.\u001b[0m\u001b[0mget\u001b[0m\u001b[0;34m(\u001b[0m\u001b[0mkey\u001b[0m\u001b[0;34m,\u001b[0m \u001b[0mself\u001b[0m\u001b[0;34m.\u001b[0m\u001b[0mrestval\u001b[0m\u001b[0;34m)\u001b[0m \u001b[0;32mfor\u001b[0m \u001b[0mkey\u001b[0m \u001b[0;32min\u001b[0m \u001b[0mself\u001b[0m\u001b[0;34m.\u001b[0m\u001b[0mfieldnames\u001b[0m\u001b[0;34m)\u001b[0m\u001b[0;34m\u001b[0m\u001b[0;34m\u001b[0m\u001b[0m\n\u001b[1;32m    153\u001b[0m \u001b[0;34m\u001b[0m\u001b[0m\n",
      "\u001b[0;31mValueError\u001b[0m: dict contains fields not in fieldnames: 'last'"
     ]
    }
   ],
   "source": [
    "# writing out a list of dictionaries\n",
    "# Ignore fields when writing out\n",
    "presidents = [\n",
    "    \n",
    "    {'first': 'Donald', 'last': 'Trump'},\n",
    "    {'first': 'Barack', 'last': 'Obama'},\n",
    "    {'first': 'George', 'last': 'Bush'},\n",
    "    {'first': 'Bill', 'last': 'Clinton'},\n",
    "\n",
    "]\n",
    "\n",
    "header = ['first']\n",
    "with open('presidents.txt', 'w') as f:\n",
    "    writer = csv.DictWriter(f, fieldnames=header)\n",
    "    writer.writeheader()\n",
    "    for row in presidents:\n",
    "        writer.writerow(row)\n",
    "\n",
    "   \n",
    "with open('presidents.txt') as f:\n",
    "    print(f.read())  "
   ]
  },
  {
   "cell_type": "code",
   "execution_count": 37,
   "metadata": {
    "slideshow": {
     "slide_type": "slide"
    }
   },
   "outputs": [
    {
     "name": "stdout",
     "output_type": "stream",
     "text": [
      "first\n",
      "Donald\n",
      "Barack\n",
      "George\n",
      "Bill\n",
      "\n"
     ]
    }
   ],
   "source": [
    "header = ['first']\n",
    "with open('presidents.txt', 'w') as f:\n",
    "    writer = csv.DictWriter(f, fieldnames=header, extrasaction='ignore')\n",
    "    writer.writeheader()\n",
    "    for row in presidents:\n",
    "        writer.writerow(row)\n",
    "\n",
    "with open('presidents.txt') as f:\n",
    "    print(f.read())  "
   ]
  },
  {
   "cell_type": "code",
   "execution_count": 38,
   "metadata": {
    "slideshow": {
     "slide_type": "slide"
    }
   },
   "outputs": [
    {
     "name": "stdout",
     "output_type": "stream",
     "text": [
      "['first', 'last', 'number']\n",
      "['Donald', 'Trump', '45']\n",
      "['Barack', 'Obama', '44']\n",
      "['George', 'Bush', '43']\n",
      "['Bill', 'Clinton', '42']\n"
     ]
    }
   ],
   "source": [
    "#  Guess a file\n",
    "\n",
    "presidents = [\n",
    "    ['first', 'last', 'number'],\n",
    "    ['Donald', 'Trump', 45],\n",
    "    ['Barack', 'Obama', 44],\n",
    "    ['George', 'Bush', 43],\n",
    "    ['Bill', 'Clinton', 42]\n",
    "]\n",
    "\n",
    "with open('presidents.txt', 'w') as f:\n",
    "    writer = csv.writer(f, delimiter=\"|\")\n",
    "    for president in presidents:\n",
    "        writer.writerow(president)\n",
    "        \n",
    "with open('presidents.txt') as f:\n",
    "    dialect = csv.Sniffer().sniff(f.read(256))\n",
    "    f.seek(0)\n",
    "    reader = csv.reader(f, dialect)\n",
    "    for row in reader:\n",
    "        print(row)"
   ]
  },
  {
   "cell_type": "code",
   "execution_count": 40,
   "metadata": {
    "slideshow": {
     "slide_type": "slide"
    }
   },
   "outputs": [],
   "source": [
    "# Compress an existing file\n",
    "import gzip\n",
    "import shutil\n",
    "with open('presidents.txt', 'rb') as f_in:\n",
    "    with gzip.open('presidents.txt.gz', 'wb') as f_out:\n",
    "        shutil.copyfileobj(f_in, f_out)"
   ]
  },
  {
   "cell_type": "code",
   "execution_count": 42,
   "metadata": {},
   "outputs": [
    {
     "name": "stdout",
     "output_type": "stream",
     "text": [
      "b'first|last|number\\r\\n'\n",
      "b'Donald|Trump|45\\r\\n'\n",
      "b'Barack|Obama|44\\r\\n'\n",
      "b'George|Bush|43\\r\\n'\n",
      "b'Bill|Clinton|42\\r\\n'\n",
      "\n",
      "\n",
      "first|last|number\r\n",
      "Donald|Trump|45\r\n",
      "Barack|Obama|44\r\n",
      "George|Bush|43\r\n",
      "Bill|Clinton|42\r\n"
     ]
    }
   ],
   "source": [
    "# Read compressed file\n",
    "import gzip\n",
    "with gzip.open('presidents.txt.gz', 'rb') as f:\n",
    "    for row in f:\n",
    "        print(row)\n",
    "\n",
    "print(\"\\n\")\n",
    "with gzip.open('presidents.txt.gz', 'rb') as f:\n",
    "    for row in f:\n",
    "        print(row.decode(), end=\"\")"
   ]
  },
  {
   "cell_type": "markdown",
   "metadata": {
    "slideshow": {
     "slide_type": "slide"
    }
   },
   "source": [
    "#### Exceptions\n",
    "* EOFError\n",
    "* OSError\n",
    "* FileExistsError\n",
    "* FileNotFoundError\n"
   ]
  },
  {
   "cell_type": "markdown",
   "metadata": {},
   "source": [
    "  "
   ]
  },
  {
   "cell_type": "code",
   "execution_count": null,
   "metadata": {},
   "outputs": [],
   "source": []
  }
 ],
 "metadata": {
  "celltoolbar": "Slideshow",
  "kernelspec": {
   "display_name": "Python 3",
   "language": "python",
   "name": "python3"
  },
  "language_info": {
   "codemirror_mode": {
    "name": "ipython",
    "version": 3
   },
   "file_extension": ".py",
   "mimetype": "text/x-python",
   "name": "python",
   "nbconvert_exporter": "python",
   "pygments_lexer": "ipython3",
   "version": "3.7.1"
  }
 },
 "nbformat": 4,
 "nbformat_minor": 2
}
